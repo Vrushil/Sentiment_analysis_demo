{
 "cells": [
  {
   "cell_type": "code",
   "execution_count": 2,
   "metadata": {},
   "outputs": [],
   "source": [
    "import tweepy"
   ]
  },
  {
   "cell_type": "code",
   "execution_count": null,
   "metadata": {},
   "outputs": [],
   "source": [
    "\n"
   ]
  },
  {
   "cell_type": "code",
   "execution_count": 5,
   "metadata": {},
   "outputs": [],
   "source": [
    "from textblob import TextBlob"
   ]
  },
  {
   "cell_type": "code",
   "execution_count": 6,
   "metadata": {},
   "outputs": [],
   "source": [
    "consumer_key='V7rV1sU3JF2VZIhT20IOSDDLf'\n",
    "consumer_secretkey='K9M0Ug4YHa4AphmiyaLV5O7VTlABoBxg3QVUIfkftIoadYLEik'\n",
    "access_token='162648676-i4i7iFmZS1tqAtUnnJpI6JTVheMUfMSupAeLSpF7'\n",
    "access_token_secret='Ew5PHiATbZ0BoCWlHMeDFUY00kbz9DTV6CywpVKIKTC1z'"
   ]
  },
  {
   "cell_type": "code",
   "execution_count": 7,
   "metadata": {},
   "outputs": [],
   "source": [
    "auth=tweepy.OAuthHandler(consumer_key,consumer_secretkey)\n",
    "auth.set_access_token(access_token,access_token_secret)"
   ]
  },
  {
   "cell_type": "code",
   "execution_count": 8,
   "metadata": {},
   "outputs": [],
   "source": [
    "api=tweepy.API(auth)"
   ]
  },
  {
   "cell_type": "code",
   "execution_count": 12,
   "metadata": {},
   "outputs": [
    {
     "name": "stdout",
     "output_type": "stream",
     "text": [
      "RT @Kulshrestha_Pk: AIMIM के प्रमुख जिहादी 🐷 असद्दुदीन ओवैसी ने कहा👇👇👇\n",
      "\n",
      "‘जो मोदी-शाह के ख़िलाफ़ आवाज़ उठाएगा वो मर्द-ए-मुजाहिद कह लाएगा’ –…\n",
      "Sentiment(polarity=0.0, subjectivity=0.0)\n",
      "RT @Mohamme98628815: On the occasion of 62 years of the founding of All India Majlis-e-Ittehadul Muslimeen, #AIMIM president and Hyderabad…\n",
      "Sentiment(polarity=0.0, subjectivity=0.0)\n",
      "@pathan_sumaya @asadowaisi @cjwerleman We're is aimim we're is asaduddin owaisi Akbaruddin Owaisi\n",
      "Almighty Allah wi… https://t.co/U6iHVZCmgJ\n",
      "Sentiment(polarity=0.0, subjectivity=0.0)\n",
      "Our country is looking for a good leader\n",
      "I think there is no better leader than Asaduddin Owaisi\n",
      "We need them to st… https://t.co/oxGXaKNCng\n",
      "Sentiment(polarity=0.22499999999999998, subjectivity=0.55)\n",
      "RT @aimim_national: On the occasion of 62 years of the founding of All India Majlis-e-Ittehadul Muslimeen, AIMIM president and Hyderabad MP…\n",
      "Sentiment(polarity=0.0, subjectivity=0.0)\n",
      "RT @Maroofhussain86: On the occasion of 62 years of the founding of All India Majlis-e-Ittehadul Muslimeen, #AIMIM president Janab Barriste…\n",
      "Sentiment(polarity=0.0, subjectivity=0.0)\n",
      "RT @ndtvindia: असदुद्दीन ओवैसी ने अमित शाह पर कसा तंज- पहले राष्ट्रव्यापी NPR/NRC करवाइए फिर CAA का उपयोग करिए, यही तो क्रोनोलॉजी है\n",
      "https:…\n",
      "Sentiment(polarity=0.0, subjectivity=0.0)\n",
      "On the occasion of 62 years of the founding of All India Majlis-e-Ittehadul Muslimeen, #AIMIM president and Hyderab… https://t.co/VUmvUN2ZrJ\n",
      "Sentiment(polarity=0.0, subjectivity=0.0)\n",
      "Live Pic's AIMIM Party President Member Of Parliament Barrister Asaduddin Owaisi Sahab With AIMIM Jubille Hills and… https://t.co/bzfPpgYZea\n",
      "Sentiment(polarity=0.13636363636363635, subjectivity=0.5)\n",
      "On the occasion of 62 years of the founding of All India Majlis-e-Ittehadul Muslimeen, #AIMIM president Janab Barri… https://t.co/5uQIUjWrwX\n",
      "Sentiment(polarity=0.0, subjectivity=0.0)\n",
      "RT @AbdulllahSyed: On the occasion of 62 years of the founding of All India Majlis-e-Ittehadul Muslimeen, #AIMIM president Janab Barrister…\n",
      "Sentiment(polarity=0.0, subjectivity=0.0)\n",
      "This is called Indian democracy and where is traitor Asaduddin Awaisi who still suport modi’s https://t.co/JzSLgprNXA\n",
      "Sentiment(polarity=0.0, subjectivity=0.0)\n",
      "@sonumaze @PMOIndia @narendramodi @AmitShah @myogiadityanath @AmitShahOffice Asaduddin never did that. Show ke vide… https://t.co/A5Wc0QDWCP\n",
      "Sentiment(polarity=0.0, subjectivity=0.0)\n",
      "@quietframe @shameer_sheikh_ @CraigCons Since this happened, Sikh men follower of Muslims. https://t.co/nTp3HTlc1J\n",
      "Sentiment(polarity=0.0, subjectivity=0.0)\n",
      "@ReallySwara @ABPNews @abpnewshindi Swara Kasker , Modi , Shah , BJP se itni nafrat kyo ? Kabhi Asaduddin aur Akber… https://t.co/NOcfbXgLdP\n",
      "Sentiment(polarity=0.0, subjectivity=0.0)\n"
     ]
    }
   ],
   "source": [
    "public_tweets=api.search('Asaduddin')\n",
    "for tweet in public_tweets:\n",
    "    print(tweet.text)\n",
    "    analysis=TextBlob(tweet.text)\n",
    "    print(analysis.sentiment)"
   ]
  },
  {
   "cell_type": "code",
   "execution_count": null,
   "metadata": {},
   "outputs": [],
   "source": []
  }
 ],
 "metadata": {
  "kernelspec": {
   "display_name": "Python 3",
   "language": "python",
   "name": "python3"
  },
  "language_info": {
   "codemirror_mode": {
    "name": "ipython",
    "version": 3
   },
   "file_extension": ".py",
   "mimetype": "text/x-python",
   "name": "python",
   "nbconvert_exporter": "python",
   "pygments_lexer": "ipython3",
   "version": "3.7.6"
  }
 },
 "nbformat": 4,
 "nbformat_minor": 4
}
