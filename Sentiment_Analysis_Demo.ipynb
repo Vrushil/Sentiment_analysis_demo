{
 "cells": [
  {
   "cell_type": "code",
   "execution_count": 2,
   "metadata": {},
   "outputs": [],
   "source": [
    "import tweepy"
   ]
  },
  {
   "cell_type": "code",
   "execution_count": null,
   "metadata": {},
   "outputs": [],
   "source": [
    "\n"
   ]
  },
  {
   "cell_type": "code",
   "execution_count": 5,
   "metadata": {},
   "outputs": [],
   "source": [
    "from textblob import TextBlob"
   ]
  },
  {
   "cell_type": "code",
   "execution_count": 6,
   "metadata": {},
   "outputs": [],
   "source": [
    "consumer_key='V7rV1sU3JF2VZIhT20IOSDDLf'\n",
    "consumer_secretkey='K9M0Ug4YHa4AphmiyaLV5O7VTlABoBxg3QVUIfkftIoadYLEik'\n",
    "access_token='162648676-i4i7iFmZS1tqAtUnnJpI6JTVheMUfMSupAeLSpF7'\n",
    "access_token_secret='Ew5PHiATbZ0BoCWlHMeDFUY00kbz9DTV6CywpVKIKTC1z'"
   ]
  },
  {
   "cell_type": "code",
   "execution_count": 7,
   "metadata": {},
   "outputs": [],
   "source": [
    "auth=tweepy.OAuthHandler(consumer_key,consumer_secretkey)\n",
    "auth.set_access_token(access_token,access_token_secret)"
   ]
  },
  {
   "cell_type": "code",
   "execution_count": 8,
   "metadata": {},
   "outputs": [],
   "source": [
    "api=tweepy.API(auth)"
   ]
  },
  {
   "cell_type": "code",
   "execution_count": 15,
   "metadata": {},
   "outputs": [
    {
     "name": "stdout",
     "output_type": "stream",
     "text": [
      "RT @ProudResister: More than 13,000 people turned out in Boston today to see @BernieSanders. Bernie is the only candidate with the movement…\n",
      "Sentiment(polarity=0.25, subjectivity=0.75)\n",
      "RT @joncoopertweets: Raise your hand if you agree there will never be a Donald Trump High School. 👋\n",
      "Sentiment(polarity=0.16, subjectivity=0.5399999999999999)\n",
      "RT @TheEconomist: Most of the victims were Muslims https://t.co/LG2TJNup79\n",
      "Sentiment(polarity=0.5, subjectivity=0.5)\n",
      "RT @lloyd4man: Donald Trump Addresses Roaring Crowd of over 100,000 People in India https://t.co/dc8EAqKM7n\n",
      "Sentiment(polarity=0.0, subjectivity=0.0)\n",
      "RT @JTHVerhovek: NEW: Former VA Gov. @TerryMcAuliffe endorsed Biden a few minutes ago on CNN: \"I have made a decision. I'm going to endorse…\n",
      "Sentiment(polarity=-0.02121212121212122, subjectivity=0.18484848484848485)\n",
      "RT @tedlieu: This goes beyond @SecPompeo bowing down to crazy talk from the @realDonaldTrump Administration. This is the Secretary of State…\n",
      "Sentiment(polarity=-0.37777777777777777, subjectivity=0.5944444444444444)\n",
      "RT @BlueSea1964: 🚨 👉 Trump And Pence Confirm First Coronavirus Death In US, Announce Travel Restrictions To Iran, Italy, South Korea!!\n",
      "\n",
      "#Bl…\n",
      "Sentiment(polarity=0.390625, subjectivity=0.3333333333333333)\n",
      "RT @Logic_Triumphs: Does Donald Trump's handling of the Coronavirus make you feel safe?\n",
      "#MAGA #Trump #caronavirusoutbreak\n",
      "Sentiment(polarity=0.5, subjectivity=0.5)\n",
      "RT @ewarren: We’re not going to beat Donald Trump by backing down.\n",
      "\n",
      "We’ll beat him by fighting back. \n",
      "\n",
      "Will you chip in whatever you can ri…\n",
      "Sentiment(polarity=-0.07777777777777779, subjectivity=0.14444444444444446)\n",
      "RT @JoeBiden: From climate change to racial justice — @TomSteyer has dedicated his life to making progress on some of the most pressing iss…\n",
      "Sentiment(polarity=0.5, subjectivity=0.5)\n",
      "RT @ewarren: Thank you, @TomSteyer. You've been a powerful voice for climate advocacy and holding Donald Trump accountable. I look forward…\n",
      "Sentiment(polarity=0.3, subjectivity=1.0)\n",
      "RT @AAlexrromero: @lunamoongrey @bbusa617 @MarcusA71270564 President Donald J Trump chosen by the people of America is persecuted by the De…\n",
      "Sentiment(polarity=0.0, subjectivity=0.0)\n",
      "RT @business: Michael Bloomberg says he's buying three minutes of airtime on CBS and NBC Sunday night for what he's billing as an \"address…\n",
      "Sentiment(polarity=0.0, subjectivity=0.0)\n",
      "RT @TheEconomist: American officials deny that Donald Trump is running for the door https://t.co/Hi5Qw4o2pY\n",
      "Sentiment(polarity=0.0, subjectivity=0.0)\n",
      "RT @charliekirk11: Did you know:\n",
      "\n",
      "Joe Biden has run for President three times in his 44 year career\n",
      "\n",
      "Tonight was the first EVER presidentia…\n",
      "Sentiment(polarity=0.25, subjectivity=0.3333333333333333)\n"
     ]
    }
   ],
   "source": [
    "public_tweets=api.search('Donald Trump')\n",
    "for tweet in public_tweets:\n",
    "    print(tweet.text)\n",
    "    analysis=TextBlob(tweet.text)\n",
    "    print(analysis.sentiment)"
   ]
  },
  {
   "cell_type": "code",
   "execution_count": null,
   "metadata": {},
   "outputs": [],
   "source": []
  }
 ],
 "metadata": {
  "kernelspec": {
   "display_name": "Python 3",
   "language": "python",
   "name": "python3"
  },
  "language_info": {
   "codemirror_mode": {
    "name": "ipython",
    "version": 3
   },
   "file_extension": ".py",
   "mimetype": "text/x-python",
   "name": "python",
   "nbconvert_exporter": "python",
   "pygments_lexer": "ipython3",
   "version": "3.7.6"
  }
 },
 "nbformat": 4,
 "nbformat_minor": 4
}
